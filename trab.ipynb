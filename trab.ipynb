{
 "cells": [
  {
   "cell_type": "markdown",
   "metadata": {},
   "source": [
    "1 Questão  a) "
   ]
  },
  {
   "cell_type": "code",
   "execution_count": null,
   "metadata": {},
   "outputs": [],
   "source": [
    "def newton_sqrt(a, tolerance=1e-10, max_iterations=1000):\n",
    "\n",
    "    if a < 0:\n",
    "        raise ValueError(\"Não é possível calcular a raiz quadrada de número negativo.\")\n",
    "    x_n = a / 2.0\n",
    "\n",
    "    for iteration in range(max_iterations):\n",
    "       \n",
    "        x_next = x_n - (x_n**2 - a) / (2 * x_n)\n",
    "        \n",
    "       \n",
    "        if abs(x_next - x_n) < tolerance:\n",
    "            print(f\"Convergência após {iteration + 1} iterações.\")\n",
    "            return x_next\n",
    "        \n",
    "        x_n = x_next\n",
    "    \n",
    "    raise Exception(\"O método não convergiu.\")\n",
    "a = 25 \n",
    "resultado = newton_sqrt(a)\n",
    "print(f\"A raiz quadrada de {a} é aproximadamente {resultado:.10f}\")"
   ]
  },
  {
   "cell_type": "markdown",
   "metadata": {},
   "source": [
    "1 Questão b)"
   ]
  },
  {
   "cell_type": "code",
   "execution_count": null,
   "metadata": {},
   "outputs": [],
   "source": [
    "def newton_cubic_root(a, tolerance=1e-10, max_iterations=1000):\n",
    "    x_n = a / 2.0  \n",
    "    for _ in range(max_iterations):\n",
    "        x_next = x_n - (x_n**3 - a) / (3 * x_n**2)\n",
    "        if abs(x_next - x_n) < tolerance:\n",
    "            return x_next\n",
    "        x_n = x_next\n",
    "\n",
    "    raise Exception(\"O método não convergiu.\")\n",
    "\n",
    "a = 27\n",
    "print(f\"A raiz cúbica de {a} é aproximadamente {newton_cubic_root(a):.10f}\")"
   ]
  },
  {
   "cell_type": "markdown",
   "metadata": {},
   "source": [
    "2 Questão"
   ]
  },
  {
   "cell_type": "code",
   "execution_count": null,
   "metadata": {},
   "outputs": [],
   "source": [
    "import math\n",
    "\n",
    "def f(x):\n",
    "    return math.exp(-x**2) - 2 * x**2\n",
    "\n",
    "def df(x):\n",
    "    return -2 * x * math.exp(-x**2) - 4 * x\n",
    "\n",
    "def newton_method(f, df, x0, tolerance=1e-10, max_iterations=1000):\n",
    "    x_n = x0\n",
    "\n",
    "    for _ in range(max_iterations):\n",
    "        x_next = x_n - f(x_n) / df(x_n)\n",
    "        if abs(x_next - x_n) < tolerance:\n",
    "            return x_next\n",
    "        x_n = x_next\n",
    "\n",
    "    raise Exception(\"O método não convergiu.\")\n",
    "\n",
    "valores_iniciais = [-2, 0, 2]\n",
    "for x0 in valores_iniciais:\n",
    "    try:\n",
    "        raiz = newton_method(f, df, x0)\n",
    "        print(f\"Valor inicial x0={x0} resulta na raiz {raiz:.10f}\")\n",
    "    except Exception as e:\n",
    "        print(f\"Valor inicial x0={x0} não convergiu.\")"
   ]
  },
  {
   "cell_type": "markdown",
   "metadata": {},
   "source": [
    "3 Questão"
   ]
  },
  {
   "cell_type": "code",
   "execution_count": null,
   "metadata": {},
   "outputs": [],
   "source": [
    "def func_alpha(alpha, l2, l1, gamma):\n",
    "    return (l2 * math.cos(math.pi - gamma - alpha)) / (math.sin(math.pi - gamma - alpha)) - (l1 * math.cos(alpha)) / (math.sin(alpha))\n",
    "\n",
    "def d_func_alpha(alpha, l2, l1, gamma):\n",
    "    # Derivada da função com relação a alpha\n",
    "    return (-l2 * math.sin(math.pi - gamma - alpha)) / (math.sin(math.pi - gamma - alpha)) + (l1 * math.sin(alpha)) / (math.sin(alpha))\n",
    "\n",
    "def newton_alpha(l2, l1, gamma, tolerance=1e-10, max_iterations=1000):\n",
    "    alpha_n = 0.1 \n",
    "\n",
    "    for _ in range(max_iterations):\n",
    "        alpha_next = alpha_n - func_alpha(alpha_n, l2, l1, gamma) / d_func_alpha(alpha_n, l2, l1, gamma)\n",
    "        if abs(alpha_next - alpha_n) < tolerance:\n",
    "            return alpha_next\n",
    "        alpha_n = alpha_next\n",
    "\n",
    "    raise Exception(\"O método não convergiu.\")\n",
    "\n",
    "l2 = 10\n",
    "l1 = 8\n",
    "gamma = 3 * math.pi / 5\n",
    "\n",
    "alpha = newton_alpha(l2, l1, gamma)\n",
    "print(f\"Valor de α: {alpha:.10f}\")\n"
   ]
  },
  {
   "cell_type": "markdown",
   "metadata": {},
   "source": [
    "Questão 4\n",
    "\n",
    "\n",
    "O método de Newton é utilizado para encontrar raízes de funções. \n",
    "Sua convergência depende da natureza da raiz:\n",
    "\n",
    "- Raiz Simples (m = 1):\n",
    "Se a raiz α for simples (ou seja, f(α) = 0 e f'(α) ≠ 0), a convergência é quadrática.\n",
    "Isso significa que, se estivermos suficientemente próximos da raiz, o erro entre a\n",
    "estimativa e a raiz verdadeira diminui ao quadrado a cada iteração. Assim, o método\n",
    "converge rapidamente para a solução.\n",
    "\n",
    "- Raiz Múltipla (m > 1):\n",
    "Se α for uma raiz de multiplicidade maior que 1, a convergência se torna linear.\n",
    "Isso acontece porque, para raízes múltiplas, a derivada é pequena perto da raiz, \n",
    "tornando a correção menos eficaz e resultando em uma convergência mais lenta.\n"
   ]
  },
  {
   "cell_type": "markdown",
   "metadata": {},
   "source": [
    "Questão 5)\n",
    "\n",
    "O método de Newton modificado é utilizado para melhorar a taxa de convergência\n",
    "em situações onde a raiz possui alta multiplicidade.\n",
    "\n",
    "- A fórmula modificada, como discutida na equação 2.10, ajusta a derivada para \n",
    "incluir uma correção que melhora a taxa de convergência.\n",
    "\n",
    "- Isso faz com que, mesmo que a raiz tenha alta multiplicidade, a convergência seja\n",
    "quadrática. Assim, a modificação evita os problemas que surgem quando a derivada\n",
    "se aproxima de zero, garantindo que a correção seja mais precisa e rápida.\n"
   ]
  },
  {
   "cell_type": "markdown",
   "metadata": {},
   "source": [
    "Questão 6)\n",
    "\n",
    "Quando o método de Newton é aplicado com uma derivada constante d, a fórmula de iteração é:\n",
    "\n",
    "x_{k+1} = x_k - f(x_k) / d\n",
    "\n",
    "- Para que o método seja convergente, o valor constante d deve ser próximo da derivada\n",
    "verdadeira f'(x) perto da raiz. Assim, se d for uma boa aproximação, o método pode\n",
    "convergir, mas a convergência não será tão rápida quanto o método de Newton original.\n",
    "\n",
    "- Taxa de Convergência:\n",
    "A convergência será geralmente linear, pois d é uma aproximação fixa da derivada.\n",
    "Para obter convergência quadrática, d precisaria ser igual a f'(α), o que é difícil\n",
    "de garantir na prática.\n"
   ]
  },
  {
   "cell_type": "code",
   "execution_count": null,
   "metadata": {},
   "outputs": [],
   "source": [
    "def newton_derivative(f, d, x0, tolerance=1e-10, max_iterations=1000):\n",
    "    x_n = x0\n",
    "\n",
    "    for _ in range(max_iterations):\n",
    "        x_next = x_n - f(x_n) / d\n",
    "        if abs(x_next - x_n) < tolerance:\n",
    "            return x_next\n",
    "        x_n = x_next\n",
    "\n",
    "    raise Exception(\"O método não convergiu.\")\n",
    "\n",
    "# Testando com um valor constante para a derivada\n",
    "d = 1  # Valor constante\n",
    "x0 = 2  # Valor inicial\n",
    "try:\n",
    "    raiz = newton_derivative(f, d, x0)\n",
    "    print(f\"Raiz encontrada com derivada constante d={d}: {raiz:.10f}\")\n",
    "except Exception as e:\n",
    "    print(f\"Não convergiu com d={d}\")"
   ]
  },
  {
   "cell_type": "markdown",
   "metadata": {},
   "source": [
    "Questão 7)\n",
    "Neste exercício, deseja-se provar que a função f(x) = x^3 + 4x^2 - 10 possui uma única raiz real\n",
    "e utilizar a iteração de ponto fixo para encontrá-la.\n",
    "\n",
    "- Raiz Real Única:\n",
    "Analisando o gráfico da função f(x), é possível deduzir que ela possui uma única raiz real.\n",
    "Isso pode ser observado pois a função é contínua e varia de valores negativos para positivos\n",
    "em um único ponto, indicando a presença de apenas uma raiz.\n",
    "\n",
    "- Iteração de Ponto Fixo:\n",
    "A função de iteração dada é:\n",
    "\n",
    "x_{k+1} = (2 * x_k^3 + 4 * x_k^2 + 10) / (3 * x_k^2 + 8 * x_k)\n",
    "\n",
    "Esta fórmula é usada para aproximar a raiz da função, e a convergência depende das condições\n",
    "do teorema de ponto fixo, ou seja, se a função é contrativa no intervalo em que estamos iterando."
   ]
  },
  {
   "cell_type": "code",
   "execution_count": null,
   "metadata": {},
   "outputs": [],
   "source": [
    "def ponto_fixo(x0, tolerance=1e-10, max_iterations=1000):\n",
    "    def g(x):\n",
    "        return (2 * x**3 + 4 * x**2 + 10) / (3 * x**2 + 8 * x)\n",
    "\n",
    "    x_n = x0\n",
    "\n",
    "    for _ in range(max_iterations):\n",
    "        x_next = g(x_n)\n",
    "        if abs(x_next - x_n) < tolerance:\n",
    "            return x_next\n",
    "        x_n = x_next\n",
    "\n",
    "    raise Exception(\"O método não convergiu.\")\n",
    "\n",
    "# Calculando a raiz usando iteração de ponto fixo\n",
    "x0 = 1\n",
    "raiz = ponto_fixo(x0)\n",
    "print(f\"Raiz da função: {raiz:.10f}\")"
   ]
  }
 ],
 "metadata": {
  "language_info": {
   "name": "python"
  }
 },
 "nbformat": 4,
 "nbformat_minor": 2
}
